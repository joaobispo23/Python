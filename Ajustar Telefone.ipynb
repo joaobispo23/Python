{
 "cells": [
  {
   "cell_type": "code",
   "execution_count": 41,
   "id": "b573fd34-1f74-4cf7-9485-bc7cf91e367c",
   "metadata": {},
   "outputs": [],
   "source": [
    "import pandas as pd"
   ]
  },
  {
   "cell_type": "code",
   "execution_count": 42,
   "id": "8560ade2-2cc4-4fcc-9c4f-72a6ea64e32e",
   "metadata": {},
   "outputs": [],
   "source": [
    "import re"
   ]
  },
  {
   "cell_type": "code",
   "execution_count": 54,
   "id": "6103348b-fa7c-4ee6-a72e-15dc5811de0b",
   "metadata": {},
   "outputs": [],
   "source": [
    "input_csv = './DataBase_Client.csv'\n",
    "df = pd.read_csv(input_csv)"
   ]
  },
  {
   "cell_type": "code",
   "execution_count": 55,
   "id": "9f2cd782-c0a8-4ebe-b6dd-d5879a0730e9",
   "metadata": {},
   "outputs": [
    {
     "name": "stdout",
     "output_type": "stream",
     "text": [
      "     Unnamed: 0                                                  0\n",
      "0             0                     Nome;Sobrenome;Telefone;Email;\n",
      "1             1  Enzo;Silva;(51) 7991-7697;EnzoSousaSilva@dayre...\n",
      "2             2  Matheus;Cunha;(44) 2770-3992;MatheusCardosoCun...\n",
      "3             3  Luis;Azevedo;(67) 7627-5794;LuisFerreiraAzeved...\n",
      "4             4  Yasmin;Rodrigues;(34) 8654-4059;YasminCastroRo...\n",
      "..          ...                                                ...\n",
      "96           96  Ot�vio;Silva;95810-8895;OtavioRibeiroSilva@cuv...\n",
      "97           97  J�lio;Dias;(27) 9402-3265;JulioAlmeidaDias@jou...\n",
      "98           98  Luana;Castro;(11) 6253-6934;LuanaGoncalvesCast...\n",
      "99           99  Rodrigo;Rodrigues;(21) 2858-9639;RodrigoBarbos...\n",
      "100         100  Brenda;Pinto;9553-8772;BrendaCorreiaPinto@army...\n",
      "\n",
      "[101 rows x 2 columns]\n"
     ]
    }
   ],
   "source": [
    "print(df)"
   ]
  },
  {
   "cell_type": "code",
   "execution_count": 64,
   "id": "b96aa53a-54ac-4620-9fa8-46a647a7274a",
   "metadata": {},
   "outputs": [],
   "source": [
    "# Função para arrumar o número de telefone\n",
    "def fix_phone(phone):\n",
    "    # Remover caracteres especiais e espaços\n",
    "    phone = re.sub(r'\\D', '', phone)\n",
    "    \n",
    "    # Verificar se o número tem pelo menos 9 dígitos\n",
    "    if len(phone) >= 10:\n",
    "        # Extrair os últimos 9 dígitos\n",
    "        phone = phone[-9:]\n",
    "        \n",
    "        # Adicionar '9' no início\n",
    "        phone = '9' + phone\n",
    "        \n",
    "        # Adicionar o código de país (55) no início\n",
    "        phone = '55' + phone\n",
    "        \n",
    "        return phone\n",
    "    else:\n",
    "        return None"
   ]
  },
  {
   "cell_type": "code",
   "execution_count": 69,
   "id": "ec3b0017-88b8-4182-a482-c7ca285e630e",
   "metadata": {},
   "outputs": [],
   "source": [
    "input_csv = './DataBase_Client.csv'\n",
    "df = pd.read_csv(input_csv)"
   ]
  },
  {
   "cell_type": "code",
   "execution_count": 70,
   "id": "452ae484-3dd9-4ba5-b1cb-b87aec756478",
   "metadata": {},
   "outputs": [],
   "source": [
    "#Ler o arquivo_csv \" /DataBase_Client.csv\n",
    "input_csv ='./DataBase_Client.csv'\n",
    "df = pd.read_csv(input_csv)\n"
   ]
  },
  {
   "cell_type": "code",
   "execution_count": 71,
   "id": "4c3a5d69-89b8-4528-9153-67179839641d",
   "metadata": {},
   "outputs": [
    {
     "data": {
      "text/plain": [
       "Unnamed: 0    101\n",
       "0             101\n",
       "dtype: int64"
      ]
     },
     "execution_count": 71,
     "metadata": {},
     "output_type": "execute_result"
    }
   ],
   "source": [
    "df.count()"
   ]
  },
  {
   "cell_type": "code",
   "execution_count": 72,
   "id": "5b277c1f-3402-4d57-8e42-b9e3fb8fd132",
   "metadata": {
    "scrolled": true
   },
   "outputs": [
    {
     "name": "stdout",
     "output_type": "stream",
     "text": [
      "     Unnamed: 0                                                  0\n",
      "0             0                     Nome;Sobrenome;Telefone;Email;\n",
      "1             1  Enzo;Silva;(51) 7991-7697;EnzoSousaSilva@dayre...\n",
      "2             2  Matheus;Cunha;(44) 2770-3992;MatheusCardosoCun...\n",
      "3             3  Luis;Azevedo;(67) 7627-5794;LuisFerreiraAzeved...\n",
      "4             4  Yasmin;Rodrigues;(34) 8654-4059;YasminCastroRo...\n",
      "..          ...                                                ...\n",
      "96           96  Ot�vio;Silva;95810-8895;OtavioRibeiroSilva@cuv...\n",
      "97           97  J�lio;Dias;(27) 9402-3265;JulioAlmeidaDias@jou...\n",
      "98           98  Luana;Castro;(11) 6253-6934;LuanaGoncalvesCast...\n",
      "99           99  Rodrigo;Rodrigues;(21) 2858-9639;RodrigoBarbos...\n",
      "100         100  Brenda;Pinto;9553-8772;BrendaCorreiaPinto@army...\n",
      "\n",
      "[101 rows x 2 columns]\n"
     ]
    }
   ],
   "source": [
    "print(df)"
   ]
  },
  {
   "cell_type": "code",
   "execution_count": 97,
   "id": "cef076e9-bfed-4921-850d-7b21b5c48827",
   "metadata": {
    "scrolled": true
   },
   "outputs": [
    {
     "data": {
      "text/plain": [
       ",0    0\n",
       "dtype: int64"
      ]
     },
     "execution_count": 97,
     "metadata": {},
     "output_type": "execute_result"
    }
   ],
   "source": [
    "df.count()"
   ]
  },
  {
   "cell_type": "code",
   "execution_count": 99,
   "id": "5c8c0cb3-52ba-4ad0-ac2c-63d13fc8b00a",
   "metadata": {},
   "outputs": [],
   "source": [
    "# Função para arrumar o número de telefone\n",
    "def fix_phone(phone):\n",
    "    phone = re.sub(r'\\D', '', phone)\n",
    "    \n",
    "    if len(phone) >= 11:\n",
    "        # Encontrar o DDD dentro dos parênteses\n",
    "        match = re.search(r'\\((\\d{2})\\)', phone)\n",
    "        if match:\n",
    "            ddd = match.group(1)\n",
    "            phone = phone.replace(match.group(0), '')  # Remover o DDD original\n",
    "            phone = '55' + ddd + '9' + phone  # Adicionar DDD e dígito 9\n",
    "            \n",
    "            return phone\n",
    "    elif len(phone) >= 9:\n",
    "        phone = '55' + '9' + phone  # Adicionar 55 e dígito 9\n",
    "        \n",
    "        return phone\n",
    "    return None"
   ]
  },
  {
   "cell_type": "code",
   "execution_count": 100,
   "id": "4a8d946e-3b3d-4cac-a1c3-6d4b27e56cc9",
   "metadata": {},
   "outputs": [
    {
     "name": "stdout",
     "output_type": "stream",
     "text": [
      "                                                                       ,0\n",
      "0,Nome     Sobrenome Telefone       Email                             NaN\n",
      "1,Enzo     Silva     (51) 7991-7697 EnzoSousaSilva@dayrep.com         NaN\n",
      "2,Matheus  Cunha     (44) 2770-3992 MatheusCardosoCunha@armyspy.com   NaN\n",
      "3,Luis     Azevedo   (67) 7627-5794 LuisFerreiraAzevedo@teleworm.us   NaN\n",
      "4,Yasmin   Rodrigues (34) 8654-4059 YasminCastroRodrigues@einrot.com  NaN\n",
      "...                                                                    ..\n",
      "96,Ot�vio  Silva     95810-8895     OtavioRibeiroSilva@cuvox.de       NaN\n",
      "97,J�lio   Dias      (27) 9402-3265 JulioAlmeidaDias@jourrapide.com   NaN\n",
      "98,Luana   Castro    (11) 6253-6934 LuanaGoncalvesCastro@teleworm.us  NaN\n",
      "99,Rodrigo Rodrigues (21) 2858-9639 RodrigoBarbosaRodrigues@rhyta.com NaN\n",
      "100,Brenda Pinto     9553-8772      BrendaCorreiaPinto@armyspy.com    NaN\n",
      "\n",
      "[101 rows x 1 columns]\n"
     ]
    }
   ],
   "source": [
    "print(df)\n"
   ]
  },
  {
   "cell_type": "code",
   "execution_count": 102,
   "id": "46092f5e-665a-48ce-8538-a4368d254ca1",
   "metadata": {},
   "outputs": [],
   "source": [
    "# Função para verificar se o número de telefone está no padrão desejado\n",
    "def valid_phone(phone):\n",
    "    pattern = r'\\(\\d{2}\\) \\d{4}-\\d{4}'\n",
    "    return re.match(pattern, phone)"
   ]
  },
  {
   "cell_type": "code",
   "execution_count": 103,
   "id": "8b2a4e41-0ed4-46dc-848b-8211aabc71df",
   "metadata": {},
   "outputs": [],
   "source": [
    "# Função para extrair e formatar o número de telefone\n",
    "def extract_and_format_phone(phone):\n",
    "    phone = re.sub(r'\\D', '', phone)\n",
    "    \n",
    "    if len(phone) == 11:\n",
    "        ddd = phone[:2]\n",
    "        number = phone[2:]\n",
    "        return f'55{ddd}9{number}'\n",
    "    else:\n",
    "        return None"
   ]
  },
  {
   "cell_type": "code",
   "execution_count": 108,
   "id": "a094b635-fb69-4762-9bd6-2d2394149524",
   "metadata": {},
   "outputs": [
    {
     "name": "stdout",
     "output_type": "stream",
     "text": [
      "                                                                       ,0\n",
      "0,Nome     Sobrenome Telefone       Email                             NaN\n",
      "1,Enzo     Silva     (51) 7991-7697 EnzoSousaSilva@dayrep.com         NaN\n",
      "2,Matheus  Cunha     (44) 2770-3992 MatheusCardosoCunha@armyspy.com   NaN\n",
      "3,Luis     Azevedo   (67) 7627-5794 LuisFerreiraAzevedo@teleworm.us   NaN\n",
      "4,Yasmin   Rodrigues (34) 8654-4059 YasminCastroRodrigues@einrot.com  NaN\n",
      "...                                                                    ..\n",
      "96,Ot�vio  Silva     95810-8895     OtavioRibeiroSilva@cuvox.de       NaN\n",
      "97,J�lio   Dias      (27) 9402-3265 JulioAlmeidaDias@jourrapide.com   NaN\n",
      "98,Luana   Castro    (11) 6253-6934 LuanaGoncalvesCastro@teleworm.us  NaN\n",
      "99,Rodrigo Rodrigues (21) 2858-9639 RodrigoBarbosaRodrigues@rhyta.com NaN\n",
      "100,Brenda Pinto     9553-8772      BrendaCorreiaPinto@armyspy.com    NaN\n",
      "\n",
      "[101 rows x 1 columns]\n"
     ]
    }
   ],
   "source": [
    "print(df)"
   ]
  },
  {
   "cell_type": "code",
   "execution_count": null,
   "id": "c5f8e69f-6779-4001-852b-e3e0a61e193f",
   "metadata": {},
   "outputs": [],
   "source": []
  },
  {
   "cell_type": "code",
   "execution_count": null,
   "id": "289b039b-19ea-4383-855c-802878672141",
   "metadata": {},
   "outputs": [],
   "source": []
  },
  {
   "cell_type": "code",
   "execution_count": null,
   "id": "83826a1e-1269-45e9-83cf-1eeb4ab367e1",
   "metadata": {},
   "outputs": [],
   "source": []
  },
  {
   "cell_type": "code",
   "execution_count": null,
   "id": "f8b2b228-fef1-4ad8-9fac-55c5a63170a9",
   "metadata": {},
   "outputs": [],
   "source": []
  },
  {
   "cell_type": "code",
   "execution_count": null,
   "id": "406bf93b-aa90-44f8-89e3-e220cf6a16e1",
   "metadata": {},
   "outputs": [],
   "source": []
  },
  {
   "cell_type": "code",
   "execution_count": 83,
   "id": "32d26c33-af98-4e83-b764-33f4203bae65",
   "metadata": {},
   "outputs": [],
   "source": [
    "# Função para arrumar o número de telefone\n",
    "def fix_phone(phone):\n",
    "    phone = re.sub(r'\\D', '', phone)\n",
    "    \n",
    "    if len(phone) >= 11:\n",
    "        # Encontrar o DDD dentro dos parênteses\n",
    "        match = re.search(r'\\((\\d{2})\\)', phone)\n",
    "        if match:\n",
    "            ddd = match.group(1)\n",
    "            phone = phone.replace(match.group(0), '')  # Remover o DDD original\n",
    "            phone = '55' + ddd + '9' + phone  # Adicionar DDD e dígito 9\n",
    "            \n",
    "            return phone\n",
    "    return None\n"
   ]
  },
  {
   "cell_type": "code",
   "execution_count": 85,
   "id": "a954dadd-7866-47a1-8c94-a326df60b555",
   "metadata": {},
   "outputs": [],
   "source": [
    "# Ler o arquivo CSV e criar um DataFrame (usando ponto e vírgula como separador)\n",
    "input_csv = './DataBase_Client.csv'\n",
    "df = pd.read_csv(input_csv, sep=';')"
   ]
  },
  {
   "cell_type": "code",
   "execution_count": 88,
   "id": "974f4ea8-144b-480f-b177-a8423a3632b5",
   "metadata": {},
   "outputs": [],
   "source": [
    "# Aplicar a função de arrumação ao campo de telefone\n",
    "#df['telefone'] = df['telefone'].apply(fix_phone)"
   ]
  },
  {
   "cell_type": "code",
   "execution_count": 91,
   "id": "e97066c2-a8ff-4f2b-b309-42351737fcf5",
   "metadata": {},
   "outputs": [],
   "source": [
    "# Ordenar o DataFrame com base nos números de telefone\n",
    "#df_sorted = df.sort_values(by='telefone')"
   ]
  },
  {
   "cell_type": "code",
   "execution_count": 92,
   "id": "76e0b6b0-45ff-4665-820c-f5097b936445",
   "metadata": {},
   "outputs": [
    {
     "ename": "NameError",
     "evalue": "name 'df_sorted' is not defined",
     "output_type": "error",
     "traceback": [
      "\u001b[0;31m---------------------------------------------------------------------------\u001b[0m",
      "\u001b[0;31mNameError\u001b[0m                                 Traceback (most recent call last)",
      "Cell \u001b[0;32mIn[92], line 1\u001b[0m\n\u001b[0;32m----> 1\u001b[0m \u001b[38;5;28mprint\u001b[39m(\u001b[43mdf_sorted\u001b[49m)\n",
      "\u001b[0;31mNameError\u001b[0m: name 'df_sorted' is not defined"
     ]
    }
   ],
   "source": [
    "print(df_sorted)"
   ]
  },
  {
   "cell_type": "code",
   "execution_count": null,
   "id": "ce7c0f99-8944-4c93-a74c-9fdfc0d058c8",
   "metadata": {},
   "outputs": [],
   "source": []
  },
  {
   "cell_type": "code",
   "execution_count": null,
   "id": "a073d94b-c012-4754-849a-42121afd577b",
   "metadata": {},
   "outputs": [],
   "source": []
  },
  {
   "cell_type": "code",
   "execution_count": null,
   "id": "1291abff-a80f-412b-a5f1-1ddc4c9d010c",
   "metadata": {},
   "outputs": [],
   "source": []
  },
  {
   "cell_type": "code",
   "execution_count": 78,
   "id": "7a86f523-2c45-44a3-8e08-014a3f99b1e1",
   "metadata": {},
   "outputs": [],
   "source": [
    "# Ler o arquivo CSV e criar um DataFrame (usando ponto e vírgula como separador)\n",
    "input_csv ='./DataBase_Client.csv'\n",
    "df = pd.read_csv(input_csv, sep=';')"
   ]
  },
  {
   "cell_type": "code",
   "execution_count": 81,
   "id": "e17e3208-1f30-41e9-83cd-73297064ca4d",
   "metadata": {},
   "outputs": [],
   "source": [
    "# Aplicar a função de arrumação ao campo de telefone\n",
    "#df['telefone'] = df['telefone'].apply(fix_phone)"
   ]
  },
  {
   "cell_type": "code",
   "execution_count": 82,
   "id": "740012df-20ef-4f03-8981-b16bc8f4504a",
   "metadata": {
    "scrolled": true
   },
   "outputs": [
    {
     "ename": "KeyError",
     "evalue": "'telefone'",
     "output_type": "error",
     "traceback": [
      "\u001b[0;31m---------------------------------------------------------------------------\u001b[0m",
      "\u001b[0;31mKeyError\u001b[0m                                  Traceback (most recent call last)",
      "\u001b[0;32m/tmp/ipykernel_4415/2709036695.py\u001b[0m in \u001b[0;36m?\u001b[0;34m()\u001b[0m\n\u001b[1;32m      1\u001b[0m \u001b[0;31m# Ordenar o DataFrame com base nos números de telefone\u001b[0m\u001b[0;34m\u001b[0m\u001b[0;34m\u001b[0m\u001b[0m\n\u001b[0;32m----> 2\u001b[0;31m \u001b[0mdf_sorted\u001b[0m \u001b[0;34m=\u001b[0m \u001b[0mdf\u001b[0m\u001b[0;34m.\u001b[0m\u001b[0msort_values\u001b[0m\u001b[0;34m(\u001b[0m\u001b[0mby\u001b[0m\u001b[0;34m=\u001b[0m\u001b[0;34m'telefone'\u001b[0m\u001b[0;34m)\u001b[0m\u001b[0;34m\u001b[0m\u001b[0;34m\u001b[0m\u001b[0m\n\u001b[0m",
      "\u001b[0;32m~/project/notebookenv/lib/python3.10/site-packages/pandas/core/frame.py\u001b[0m in \u001b[0;36m?\u001b[0;34m(self, by, axis, ascending, inplace, kind, na_position, ignore_index, key)\u001b[0m\n\u001b[1;32m   6754\u001b[0m         \u001b[0;32melif\u001b[0m \u001b[0mlen\u001b[0m\u001b[0;34m(\u001b[0m\u001b[0mby\u001b[0m\u001b[0;34m)\u001b[0m\u001b[0;34m:\u001b[0m\u001b[0;34m\u001b[0m\u001b[0;34m\u001b[0m\u001b[0m\n\u001b[1;32m   6755\u001b[0m             \u001b[0;31m# len(by) == 1\u001b[0m\u001b[0;34m\u001b[0m\u001b[0;34m\u001b[0m\u001b[0m\n\u001b[1;32m   6756\u001b[0m \u001b[0;34m\u001b[0m\u001b[0m\n\u001b[1;32m   6757\u001b[0m             \u001b[0mby\u001b[0m \u001b[0;34m=\u001b[0m \u001b[0mby\u001b[0m\u001b[0;34m[\u001b[0m\u001b[0;36m0\u001b[0m\u001b[0;34m]\u001b[0m\u001b[0;34m\u001b[0m\u001b[0;34m\u001b[0m\u001b[0m\n\u001b[0;32m-> 6758\u001b[0;31m             \u001b[0mk\u001b[0m \u001b[0;34m=\u001b[0m \u001b[0mself\u001b[0m\u001b[0;34m.\u001b[0m\u001b[0m_get_label_or_level_values\u001b[0m\u001b[0;34m(\u001b[0m\u001b[0mby\u001b[0m\u001b[0;34m,\u001b[0m \u001b[0maxis\u001b[0m\u001b[0;34m=\u001b[0m\u001b[0maxis\u001b[0m\u001b[0;34m)\u001b[0m\u001b[0;34m\u001b[0m\u001b[0;34m\u001b[0m\u001b[0m\n\u001b[0m\u001b[1;32m   6759\u001b[0m \u001b[0;34m\u001b[0m\u001b[0m\n\u001b[1;32m   6760\u001b[0m             \u001b[0;31m# need to rewrap column in Series to apply key function\u001b[0m\u001b[0;34m\u001b[0m\u001b[0;34m\u001b[0m\u001b[0m\n\u001b[1;32m   6761\u001b[0m             \u001b[0;32mif\u001b[0m \u001b[0mkey\u001b[0m \u001b[0;32mis\u001b[0m \u001b[0;32mnot\u001b[0m \u001b[0;32mNone\u001b[0m\u001b[0;34m:\u001b[0m\u001b[0;34m\u001b[0m\u001b[0;34m\u001b[0m\u001b[0m\n",
      "\u001b[0;32m~/project/notebookenv/lib/python3.10/site-packages/pandas/core/generic.py\u001b[0m in \u001b[0;36m?\u001b[0;34m(self, key, axis)\u001b[0m\n\u001b[1;32m   1774\u001b[0m             \u001b[0mvalues\u001b[0m \u001b[0;34m=\u001b[0m \u001b[0mself\u001b[0m\u001b[0;34m.\u001b[0m\u001b[0mxs\u001b[0m\u001b[0;34m(\u001b[0m\u001b[0mkey\u001b[0m\u001b[0;34m,\u001b[0m \u001b[0maxis\u001b[0m\u001b[0;34m=\u001b[0m\u001b[0mother_axes\u001b[0m\u001b[0;34m[\u001b[0m\u001b[0;36m0\u001b[0m\u001b[0;34m]\u001b[0m\u001b[0;34m)\u001b[0m\u001b[0;34m.\u001b[0m\u001b[0m_values\u001b[0m\u001b[0;34m\u001b[0m\u001b[0;34m\u001b[0m\u001b[0m\n\u001b[1;32m   1775\u001b[0m         \u001b[0;32melif\u001b[0m \u001b[0mself\u001b[0m\u001b[0;34m.\u001b[0m\u001b[0m_is_level_reference\u001b[0m\u001b[0;34m(\u001b[0m\u001b[0mkey\u001b[0m\u001b[0;34m,\u001b[0m \u001b[0maxis\u001b[0m\u001b[0;34m=\u001b[0m\u001b[0maxis\u001b[0m\u001b[0;34m)\u001b[0m\u001b[0;34m:\u001b[0m\u001b[0;34m\u001b[0m\u001b[0;34m\u001b[0m\u001b[0m\n\u001b[1;32m   1776\u001b[0m             \u001b[0mvalues\u001b[0m \u001b[0;34m=\u001b[0m \u001b[0mself\u001b[0m\u001b[0;34m.\u001b[0m\u001b[0maxes\u001b[0m\u001b[0;34m[\u001b[0m\u001b[0maxis\u001b[0m\u001b[0;34m]\u001b[0m\u001b[0;34m.\u001b[0m\u001b[0mget_level_values\u001b[0m\u001b[0;34m(\u001b[0m\u001b[0mkey\u001b[0m\u001b[0;34m)\u001b[0m\u001b[0;34m.\u001b[0m\u001b[0m_values\u001b[0m\u001b[0;34m\u001b[0m\u001b[0;34m\u001b[0m\u001b[0m\n\u001b[1;32m   1777\u001b[0m         \u001b[0;32melse\u001b[0m\u001b[0;34m:\u001b[0m\u001b[0;34m\u001b[0m\u001b[0;34m\u001b[0m\u001b[0m\n\u001b[0;32m-> 1778\u001b[0;31m             \u001b[0;32mraise\u001b[0m \u001b[0mKeyError\u001b[0m\u001b[0;34m(\u001b[0m\u001b[0mkey\u001b[0m\u001b[0;34m)\u001b[0m\u001b[0;34m\u001b[0m\u001b[0;34m\u001b[0m\u001b[0m\n\u001b[0m\u001b[1;32m   1779\u001b[0m \u001b[0;34m\u001b[0m\u001b[0m\n\u001b[1;32m   1780\u001b[0m         \u001b[0;31m# Check for duplicates\u001b[0m\u001b[0;34m\u001b[0m\u001b[0;34m\u001b[0m\u001b[0m\n\u001b[1;32m   1781\u001b[0m         \u001b[0;32mif\u001b[0m \u001b[0mvalues\u001b[0m\u001b[0;34m.\u001b[0m\u001b[0mndim\u001b[0m \u001b[0;34m>\u001b[0m \u001b[0;36m1\u001b[0m\u001b[0;34m:\u001b[0m\u001b[0;34m\u001b[0m\u001b[0;34m\u001b[0m\u001b[0m\n",
      "\u001b[0;31mKeyError\u001b[0m: 'telefone'"
     ]
    }
   ],
   "source": [
    "# Ordenar o DataFrame com base nos números de telefone\n",
    "df_sorted = df.sort_values(by='telefone')"
   ]
  },
  {
   "cell_type": "code",
   "execution_count": null,
   "id": "43ea9828-1df7-43af-abe4-00de7fb424ee",
   "metadata": {},
   "outputs": [],
   "source": [
    "# Exibir o DataFrame ordenado\n",
    "print(df_sorted)"
   ]
  },
  {
   "cell_type": "code",
   "execution_count": null,
   "id": "65900bfd-fa66-4cd2-b139-b0d1c5c0a61f",
   "metadata": {},
   "outputs": [],
   "source": []
  },
  {
   "cell_type": "code",
   "execution_count": null,
   "id": "9990ead2-d3cb-4ace-b8c5-bf21d292497c",
   "metadata": {},
   "outputs": [],
   "source": []
  },
  {
   "cell_type": "code",
   "execution_count": null,
   "id": "e02f347c-29e1-4624-a737-b42724b1cdf2",
   "metadata": {},
   "outputs": [],
   "source": []
  },
  {
   "cell_type": "code",
   "execution_count": null,
   "id": "a593a300-cb8a-4242-9236-edc664f97ccb",
   "metadata": {},
   "outputs": [],
   "source": []
  },
  {
   "cell_type": "code",
   "execution_count": null,
   "id": "c2c09c28-6572-48ab-8910-7395331864a0",
   "metadata": {},
   "outputs": [],
   "source": []
  },
  {
   "cell_type": "code",
   "execution_count": null,
   "id": "f9c19039-479c-4d1c-972b-0312d9c59170",
   "metadata": {},
   "outputs": [],
   "source": []
  },
  {
   "cell_type": "code",
   "execution_count": null,
   "id": "a2c4fb21-897c-4d7f-92bc-8131073bc7e4",
   "metadata": {},
   "outputs": [],
   "source": []
  },
  {
   "cell_type": "code",
   "execution_count": null,
   "id": "19c8b67f-7b4c-4ada-85d0-d326a092a5a9",
   "metadata": {},
   "outputs": [],
   "source": []
  },
  {
   "cell_type": "code",
   "execution_count": null,
   "id": "96eaed1b-e46e-4a86-80b0-bcf29ddea27a",
   "metadata": {},
   "outputs": [],
   "source": []
  },
  {
   "cell_type": "code",
   "execution_count": 43,
   "id": "519650da-09d5-4533-9c12-883fcc31c97a",
   "metadata": {},
   "outputs": [
    {
     "data": {
      "text/html": [
       "<div>\n",
       "<style scoped>\n",
       "    .dataframe tbody tr th:only-of-type {\n",
       "        vertical-align: middle;\n",
       "    }\n",
       "\n",
       "    .dataframe tbody tr th {\n",
       "        vertical-align: top;\n",
       "    }\n",
       "\n",
       "    .dataframe thead th {\n",
       "        text-align: right;\n",
       "    }\n",
       "</style>\n",
       "<table border=\"1\" class=\"dataframe\">\n",
       "  <thead>\n",
       "    <tr style=\"text-align: right;\">\n",
       "      <th></th>\n",
       "      <th>Unnamed: 0</th>\n",
       "      <th>0</th>\n",
       "    </tr>\n",
       "  </thead>\n",
       "  <tbody>\n",
       "    <tr>\n",
       "      <th>0</th>\n",
       "      <td>0</td>\n",
       "      <td>Nome;Sobrenome;Telefone;Email;</td>\n",
       "    </tr>\n",
       "    <tr>\n",
       "      <th>1</th>\n",
       "      <td>1</td>\n",
       "      <td>Enzo;Silva;(51) 7991-7697;EnzoSousaSilva@dayre...</td>\n",
       "    </tr>\n",
       "    <tr>\n",
       "      <th>2</th>\n",
       "      <td>2</td>\n",
       "      <td>Matheus;Cunha;(44) 2770-3992;MatheusCardosoCun...</td>\n",
       "    </tr>\n",
       "    <tr>\n",
       "      <th>3</th>\n",
       "      <td>3</td>\n",
       "      <td>Luis;Azevedo;(67) 7627-5794;LuisFerreiraAzeved...</td>\n",
       "    </tr>\n",
       "    <tr>\n",
       "      <th>4</th>\n",
       "      <td>4</td>\n",
       "      <td>Yasmin;Rodrigues;(34) 8654-4059;YasminCastroRo...</td>\n",
       "    </tr>\n",
       "  </tbody>\n",
       "</table>\n",
       "</div>"
      ],
      "text/plain": [
       "   Unnamed: 0                                                  0\n",
       "0           0                     Nome;Sobrenome;Telefone;Email;\n",
       "1           1  Enzo;Silva;(51) 7991-7697;EnzoSousaSilva@dayre...\n",
       "2           2  Matheus;Cunha;(44) 2770-3992;MatheusCardosoCun...\n",
       "3           3  Luis;Azevedo;(67) 7627-5794;LuisFerreiraAzeved...\n",
       "4           4  Yasmin;Rodrigues;(34) 8654-4059;YasminCastroRo..."
      ]
     },
     "execution_count": 43,
     "metadata": {},
     "output_type": "execute_result"
    }
   ],
   "source": [
    "import pandas as pd\n",
    "clientes = pd.read_csv('./DataBase_Client.csv')\n",
    "clientes.head()"
   ]
  },
  {
   "cell_type": "code",
   "execution_count": 53,
   "id": "7a464e4a-9e6f-44e5-a432-3cc2b4113006",
   "metadata": {},
   "outputs": [
    {
     "name": "stdout",
     "output_type": "stream",
     "text": [
      "    Nome Sobrenome              Email      telefone\n",
      "0  João      Silva   joao@example.com  559976543210\n",
      "1  Maria     Souza  maria@example.com  559976543210\n"
     ]
    }
   ],
   "source": [
    "# Função para padronizar e formatar o número de telefone\n",
    "def format_phone(phone):\n",
    "    phone = re.sub(r'\\D', '', phone)\n",
    "    \n",
    "    if len(phone) >= 11:\n",
    "        phone = phone[-9:]\n",
    "        phone = '9' + phone\n",
    "        phone = '55' + phone\n",
    "        \n",
    "        return phone\n",
    "    else:\n",
    "        return None\n",
    "\n",
    "# Dados de exemplo\n",
    "data = {\n",
    "    'Nome': ['João ', 'Maria', 'Pedro'],\n",
    "    'Sobrenome': ['Silva', 'Souza', 'Silva'],\n",
    "    'Email': ['joao@example.com', 'maria@example.com', 'pedro@example.com'],\n",
    "    'telefone': ['(55)197654-3210', '(55)197654-3210', '12345']\n",
    "}\n",
    "\n",
    "# Criar DataFrame a partir dos dados\n",
    "df = pd.DataFrame(data)\n",
    "\n",
    "# Aplicar a função de formatação ao campo de telefone\n",
    "df['telefone'] = df['telefone'].apply(format_phone)\n",
    "\n",
    "# Remover linhas onde o telefone não pôde ser formatado corretamente\n",
    "df.dropna(subset=['telefone'], inplace=True)\n",
    "\n",
    "# Imprimir o DataFrame formatado\n",
    "print(df)\n"
   ]
  },
  {
   "cell_type": "code",
   "execution_count": 51,
   "id": "76698439-7e7d-49a0-976b-dffa4b017864",
   "metadata": {},
   "outputs": [
    {
     "name": "stdout",
     "output_type": "stream",
     "text": [
      "    Nome Sobrenome              Email      telefone\n",
      "0  João      Silva   joao@example.com  559987654321\n",
      "1  Maria     Souza  maria@example.com  559976543210\n"
     ]
    }
   ],
   "source": [
    "print(df)"
   ]
  },
  {
   "cell_type": "code",
   "execution_count": null,
   "id": "0d5e0a28-f17f-4873-a000-d07e13ab5978",
   "metadata": {},
   "outputs": [],
   "source": []
  },
  {
   "cell_type": "code",
   "execution_count": null,
   "id": "e114e681-7d60-4e59-8cb8-c6da5980fd2c",
   "metadata": {},
   "outputs": [],
   "source": []
  },
  {
   "cell_type": "code",
   "execution_count": null,
   "id": "a3d43962-6549-438f-9950-5acc3de66e92",
   "metadata": {},
   "outputs": [],
   "source": []
  },
  {
   "cell_type": "code",
   "execution_count": null,
   "id": "f2f39644-e166-4b22-83fd-1ac5fa0536c2",
   "metadata": {},
   "outputs": [],
   "source": []
  }
 ],
 "metadata": {
  "kernelspec": {
   "display_name": "Python 3 (ipykernel)",
   "language": "python",
   "name": "python3"
  },
  "language_info": {
   "codemirror_mode": {
    "name": "ipython",
    "version": 3
   },
   "file_extension": ".py",
   "mimetype": "text/x-python",
   "name": "python",
   "nbconvert_exporter": "python",
   "pygments_lexer": "ipython3",
   "version": "3.10.12"
  }
 },
 "nbformat": 4,
 "nbformat_minor": 5
}
